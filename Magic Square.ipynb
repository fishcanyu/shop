{
  "nbformat": 4,
  "nbformat_minor": 0,
  "metadata": {
    "colab": {
      "provenance": [],
      "authorship_tag": "ABX9TyMzVN6gMWbdKbvLuOCcreIx",
      "include_colab_link": true
    },
    "kernelspec": {
      "name": "python3",
      "display_name": "Python 3"
    },
    "language_info": {
      "name": "python"
    }
  },
  "cells": [
    {
      "cell_type": "markdown",
      "metadata": {
        "id": "view-in-github",
        "colab_type": "text"
      },
      "source": [
        "<a href=\"https://colab.research.google.com/github/fishcanyu/shop/blob/master/Magic%20Square.ipynb\" target=\"_parent\"><img src=\"https://colab.research.google.com/assets/colab-badge.svg\" alt=\"Open In Colab\"/></a>"
      ]
    },
    {
      "cell_type": "code",
      "source": [
        "def practice():\n",
        "  print(\"輸入奇數:\")\n",
        "  a=int(input())\n",
        "  if a%2==0 or a<3:\n",
        "    print(\"請輸入奇數或不小於3的數字\")\n",
        "    practice()   \n",
        "    return\n",
        "\n",
        "  s=[]\n",
        "  \n",
        "  for i in range(a):\n",
        "    s.append([0]*a)   \n",
        "  x=(a-1)//2\n",
        "  y=0   \n",
        "  for answer in range(1, a ** 2 + 1): \n",
        "    if s[y][x]!=0:\n",
        "      x-=1\n",
        "      y-=1\n",
        "      if x<0:\n",
        "        x=a-1\n",
        "      if y<0:\n",
        "        y=a-1\n",
        "      if s[y][x]==0:\n",
        "        s[y][x] =answer\n",
        "      else:\n",
        "        x+=1\n",
        "        y+=1\n",
        "        if x>a-1:\n",
        "            x=0\n",
        "        if y>a-1:\n",
        "            y=0 \n",
        "        y+=1\n",
        "        if y>a-1:\n",
        "            y=0\n",
        "        s[y][x] =answer \n",
        "    else:\n",
        "      s[y][x] =answer\n",
        "  \n",
        "  for i in s:\n",
        "    temp=\"\"\n",
        "    for j in i:\n",
        "     temp+=str(j)+\" \"\n",
        "    print(temp)\n",
        "  return \n",
        "practice()"
      ],
      "metadata": {
        "colab": {
          "base_uri": "https://localhost:8080/"
        },
        "id": "bDkHQ-PpQ_7J",
        "outputId": "6dc3d18e-3f1f-43f6-aaa4-2423b36f4fee"
      },
      "execution_count": 86,
      "outputs": [
        {
          "output_type": "stream",
          "name": "stdout",
          "text": [
            "輸入奇數:\n",
            "1\n",
            "請輸入奇數或不小於3的數字\n",
            "輸入奇數:\n",
            "2\n",
            "請輸入奇數或不小於3的數字\n",
            "輸入奇數:\n",
            "3\n",
            "6 1 8 \n",
            "7 5 3 \n",
            "2 9 4 \n"
          ]
        }
      ]
    }
  ]
}