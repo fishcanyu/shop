{
  "cells": [
    {
      "cell_type": "markdown",
      "metadata": {
        "id": "view-in-github",
        "colab_type": "text"
      },
      "source": [
        "<a href=\"https://colab.research.google.com/github/fishcanyu/shop/blob/master/Untitled2.ipynb\" target=\"_parent\"><img src=\"https://colab.research.google.com/assets/colab-badge.svg\" alt=\"Open In Colab\"/></a>"
      ]
    },
    {
      "cell_type": "code",
      "execution_count": 52,
      "metadata": {
        "colab": {
          "base_uri": "https://localhost:8080/"
        },
        "id": "R4LKrQY1c5ci",
        "outputId": "a38463a8-d7d2-4a9a-c1de-329331f3fd17"
      },
      "outputs": [
        {
          "output_type": "stream",
          "name": "stdout",
          "text": [
            "輸入金額:\n",
            "789456\n",
            "柒拾捌萬玖仟肆佰伍拾陸元\n"
          ]
        }
      ],
      "source": [
        "from re import S\n",
        "def practice():\n",
        "  print(\"輸入金額:\")\n",
        "  a=input()        #輸入金額\n",
        "  b=len(a)        #計算金額長度\n",
        "  if b>9:           #限制\n",
        "    print(\"數字太大了，我們只處理到億！\")\n",
        "  else :\n",
        "    doller = [\"億\",\"仟\",\"佰\",\"拾\",\"萬\",\"仟\",\"佰\",\"拾\",\"元\"]\n",
        "    d_index =len(doller)-1\n",
        "    money = {0:\"零\",1:\"壹\",2:\"貳\",3:\"參\",4:\"肆\",5:\"伍\",6:\"陸\",7:\"柒\",8:\"捌\",9:\"玖\"}\n",
        "    s=str()\n",
        "    for c in range(b-1,-1,-1):\n",
        "        s=(money[int(a[c])]+doller[d_index])+s\n",
        "    \n",
        "        d_index-=1\n",
        "    print (s)\n",
        "practice()"
      ]
    }
  ],
  "metadata": {
    "colab": {
      "provenance": [],
      "authorship_tag": "ABX9TyO69dI2jauFxJ6+qB/GQItZ",
      "include_colab_link": true
    },
    "kernelspec": {
      "display_name": "Python 3",
      "name": "python3"
    },
    "language_info": {
      "name": "python"
    }
  },
  "nbformat": 4,
  "nbformat_minor": 0
}